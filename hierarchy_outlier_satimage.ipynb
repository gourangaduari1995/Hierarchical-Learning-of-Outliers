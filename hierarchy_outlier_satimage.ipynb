{
 "cells": [
  {
   "cell_type": "code",
   "execution_count": 1,
   "metadata": {},
   "outputs": [],
   "source": [
    "import numpy as np\n",
    "import matplotlib.pyplot as plt\n",
    "import pandas as pd"
   ]
  },
  {
   "cell_type": "code",
   "execution_count": 2,
   "metadata": {},
   "outputs": [
    {
     "data": {
      "text/plain": [
       "(5803, 37)"
      ]
     },
     "execution_count": 2,
     "metadata": {},
     "output_type": "execute_result"
    }
   ],
   "source": [
    "df=pd.read_csv('SatImage.csv')\n",
    "df.shape"
   ]
  },
  {
   "cell_type": "code",
   "execution_count": 3,
   "metadata": {},
   "outputs": [
    {
     "data": {
      "text/plain": [
       "{'inlier': 5732, 'outlier': 71}"
      ]
     },
     "execution_count": 3,
     "metadata": {},
     "output_type": "execute_result"
    }
   ],
   "source": [
    "y=df.iloc[:,-1]\n",
    "unique, counts = np.unique(y, return_counts=True)\n",
    "dict_X = dict(zip(unique, counts))\n",
    "dict_X"
   ]
  },
  {
   "cell_type": "code",
   "execution_count": 4,
   "metadata": {},
   "outputs": [],
   "source": [
    "from sklearn import preprocessing\n",
    "for x in df.columns:\n",
    "    while df[x].dtype == 'object':\n",
    "        lbl = preprocessing.LabelEncoder()\n",
    "        lbl.fit(list(df[x].values))\n",
    "        df[x] = lbl.transform(list(df[x].values))"
   ]
  },
  {
   "cell_type": "code",
   "execution_count": 5,
   "metadata": {},
   "outputs": [],
   "source": [
    "dataset=df.iloc[:,:-1]\n",
    "data=dataset.copy()\n",
    "y_true=df.iloc[:,-1]"
   ]
  },
  {
   "cell_type": "code",
   "execution_count": 6,
   "metadata": {},
   "outputs": [],
   "source": [
    "from sklearn.preprocessing import StandardScaler\n",
    "scp = StandardScaler()\n",
    "scaled = scp.fit_transform(data)"
   ]
  },
  {
   "cell_type": "code",
   "execution_count": 7,
   "metadata": {},
   "outputs": [
    {
     "data": {
      "text/plain": [
       "array([0, 0, 0, ..., 1, 0, 0], dtype=int64)"
      ]
     },
     "execution_count": 7,
     "metadata": {},
     "output_type": "execute_result"
    }
   ],
   "source": [
    "from sklearn.cluster import AgglomerativeClustering\n",
    "cluster = AgglomerativeClustering(n_clusters=2, affinity='euclidean', linkage='ward')  \n",
    "cluster.fit_predict(scaled)"
   ]
  },
  {
   "cell_type": "code",
   "execution_count": 8,
   "metadata": {},
   "outputs": [
    {
     "data": {
      "text/plain": [
       "Index(['V1', 'V2', 'V3', 'V4', 'V5', 'V6', 'V7', 'V8', 'V9', 'V10', 'V11',\n",
       "       'V12', 'V13', 'V14', 'V15', 'V16', 'V17', 'V18', 'V19', 'V20', 'V21',\n",
       "       'V22', 'V23', 'V24', 'V25', 'V26', 'V27', 'V28', 'V29', 'V30', 'V31',\n",
       "       'V32', 'V33', 'V34', 'V35', 'V36', 'V37'],\n",
       "      dtype='object')"
      ]
     },
     "execution_count": 8,
     "metadata": {},
     "output_type": "execute_result"
    }
   ],
   "source": [
    "df.columns"
   ]
  },
  {
   "cell_type": "code",
   "execution_count": 9,
   "metadata": {
    "scrolled": true
   },
   "outputs": [],
   "source": [
    "df['cluster']=cluster.labels_\n",
    "df['V37'] = pd.Categorical(df.V37)\n",
    "\n",
    "df['cluster'] = pd.Series(cluster.labels_).apply(lambda x:'A' if (x==0) else 'B')"
   ]
  },
  {
   "cell_type": "code",
   "execution_count": 11,
   "metadata": {},
   "outputs": [
    {
     "data": {
      "text/plain": [
       "{'A': 3771, 'B': 2032}"
      ]
     },
     "execution_count": 11,
     "metadata": {},
     "output_type": "execute_result"
    }
   ],
   "source": [
    "#number of data objects in cluster A and cluster B\n",
    "y1=df[['cluster']]\n",
    "unique, counts = np.unique(y1, return_counts=True)\n",
    "dict_X = dict(zip(unique, counts))\n",
    "dict_X"
   ]
  },
  {
   "cell_type": "code",
   "execution_count": 12,
   "metadata": {},
   "outputs": [],
   "source": [
    "cluster_a=df.query('cluster==\"A\"')\n",
    "cluster_b=df.query('cluster==\"B\"')"
   ]
  },
  {
   "cell_type": "code",
   "execution_count": 13,
   "metadata": {},
   "outputs": [
    {
     "data": {
      "text/plain": [
       "{0: 3700, 1: 71}"
      ]
     },
     "execution_count": 13,
     "metadata": {},
     "output_type": "execute_result"
    }
   ],
   "source": [
    "#iteration_1_cluster_candidate_A\n",
    "y2=cluster_a[['V37']]\n",
    "unique, counts = np.unique(y2, return_counts=True)\n",
    "dict_X = dict(zip(unique, counts))\n",
    "dict_X"
   ]
  },
  {
   "cell_type": "code",
   "execution_count": 14,
   "metadata": {},
   "outputs": [
    {
     "data": {
      "text/plain": [
       "{0: 2032}"
      ]
     },
     "execution_count": 14,
     "metadata": {},
     "output_type": "execute_result"
    }
   ],
   "source": [
    "#iteration_1_cluster_candidate_A\n",
    "y2=cluster_b[['V37']]\n",
    "unique, counts = np.unique(y2, return_counts=True)\n",
    "dict_X = dict(zip(unique, counts))\n",
    "dict_X"
   ]
  },
  {
   "cell_type": "code",
   "execution_count": 15,
   "metadata": {},
   "outputs": [
    {
     "data": {
      "text/plain": [
       "array([0, 0, 0, ..., 1, 1, 1], dtype=int64)"
      ]
     },
     "execution_count": 15,
     "metadata": {},
     "output_type": "execute_result"
    }
   ],
   "source": [
    "#iteration_2\n",
    "it_data1=cluster_a.iloc[:,:-2]\n",
    "it_scaled1=scp.fit_transform(it_data1)\n",
    "cluster1= AgglomerativeClustering(n_clusters=2, affinity='euclidean', linkage='ward')  \n",
    "cluster1.fit_predict(it_scaled1)"
   ]
  },
  {
   "cell_type": "code",
   "execution_count": 16,
   "metadata": {},
   "outputs": [],
   "source": [
    "#iteration_2_clustering\n",
    "it_result1=cluster_a.iloc[:,:-1]\n",
    "it_result1.reset_index(inplace=True)\n",
    "it_result1['cluster'] = pd.Series(cluster1.labels_).apply(lambda x:'A' if (x==0) else 'B')"
   ]
  },
  {
   "cell_type": "code",
   "execution_count": 17,
   "metadata": {},
   "outputs": [
    {
     "data": {
      "text/plain": [
       "{'A': 2258, 'B': 1513}"
      ]
     },
     "execution_count": 17,
     "metadata": {},
     "output_type": "execute_result"
    }
   ],
   "source": [
    "#iteration_2_cluster_candidate\n",
    "y2=it_result1[['cluster']]\n",
    "unique, counts = np.unique(y2, return_counts=True)\n",
    "dict_X = dict(zip(unique, counts))\n",
    "dict_X"
   ]
  },
  {
   "cell_type": "code",
   "execution_count": 18,
   "metadata": {},
   "outputs": [],
   "source": [
    "cluster_a1=it_result1.query('cluster==\"A\"')\n",
    "cluster_b1=it_result1.query('cluster==\"B\"')"
   ]
  },
  {
   "cell_type": "code",
   "execution_count": 19,
   "metadata": {},
   "outputs": [
    {
     "data": {
      "text/plain": [
       "{0: 2198, 1: 60}"
      ]
     },
     "execution_count": 19,
     "metadata": {},
     "output_type": "execute_result"
    }
   ],
   "source": [
    "#iteration_2_cluster_candidate_A\n",
    "y2=cluster_a1[['V37']]\n",
    "unique, counts = np.unique(y2, return_counts=True)\n",
    "dict_X = dict(zip(unique, counts))\n",
    "dict_X"
   ]
  },
  {
   "cell_type": "code",
   "execution_count": 20,
   "metadata": {},
   "outputs": [
    {
     "data": {
      "text/plain": [
       "{0: 1502, 1: 11}"
      ]
     },
     "execution_count": 20,
     "metadata": {},
     "output_type": "execute_result"
    }
   ],
   "source": [
    "#iteration_2_cluster_candidate_B\n",
    "y2=cluster_b1[['V37']]\n",
    "unique, counts = np.unique(y2, return_counts=True)\n",
    "dict_X = dict(zip(unique, counts))\n",
    "dict_X"
   ]
  },
  {
   "cell_type": "code",
   "execution_count": 21,
   "metadata": {},
   "outputs": [],
   "source": [
    "#iteration_3\n",
    "it_data2=cluster_a1.iloc[:,:-2]\n",
    "it_data2.drop(['index'],axis=1,inplace=True)\n",
    "it_data2.reset_index(inplace=True)"
   ]
  },
  {
   "cell_type": "code",
   "execution_count": 22,
   "metadata": {},
   "outputs": [
    {
     "data": {
      "text/plain": [
       "array([1, 1, 1, ..., 0, 0, 0], dtype=int64)"
      ]
     },
     "execution_count": 22,
     "metadata": {},
     "output_type": "execute_result"
    }
   ],
   "source": [
    "#iteration_3\n",
    "it_scaled2=scp.fit_transform(it_data2)\n",
    "cluster2= AgglomerativeClustering(n_clusters=2, affinity='euclidean', linkage='ward')  \n",
    "cluster2.fit_predict(it_scaled2)"
   ]
  },
  {
   "cell_type": "code",
   "execution_count": 23,
   "metadata": {},
   "outputs": [],
   "source": [
    "#iteration_3_clustering\n",
    "it_result2=cluster_a1.iloc[:,:-1]\n",
    "it_result2.drop(['index'],axis=1,inplace=True)\n",
    "it_result2.reset_index(inplace=True)\n",
    "it_result2['cluster'] = pd.Series(cluster2.labels_).apply(lambda x:'A' if (x==0) else 'B')"
   ]
  },
  {
   "cell_type": "code",
   "execution_count": 24,
   "metadata": {},
   "outputs": [
    {
     "data": {
      "text/plain": [
       "{'A': 2198, 'B': 60}"
      ]
     },
     "execution_count": 24,
     "metadata": {},
     "output_type": "execute_result"
    }
   ],
   "source": [
    "#iteration_2_cluster_candidate_B\n",
    "y2=it_result2[['cluster']]\n",
    "unique, counts = np.unique(y2, return_counts=True)\n",
    "dict_X = dict(zip(unique, counts))\n",
    "dict_X"
   ]
  },
  {
   "cell_type": "code",
   "execution_count": 26,
   "metadata": {},
   "outputs": [],
   "source": [
    "cluster_a2=it_result2.query('cluster==\"A\"')\n",
    "cluster_b2=it_result2.query('cluster==\"B\"')"
   ]
  },
  {
   "cell_type": "code",
   "execution_count": 27,
   "metadata": {},
   "outputs": [
    {
     "data": {
      "text/plain": [
       "{0: 2198}"
      ]
     },
     "execution_count": 27,
     "metadata": {},
     "output_type": "execute_result"
    }
   ],
   "source": [
    "#iteration_3_cluster_candidate_A\n",
    "y2=cluster_a2[['V37']]\n",
    "unique, counts = np.unique(y2, return_counts=True)\n",
    "dict_X = dict(zip(unique, counts))\n",
    "dict_X"
   ]
  },
  {
   "cell_type": "code",
   "execution_count": 28,
   "metadata": {},
   "outputs": [
    {
     "data": {
      "text/plain": [
       "{1: 60}"
      ]
     },
     "execution_count": 28,
     "metadata": {},
     "output_type": "execute_result"
    }
   ],
   "source": [
    "#iteration_3_cluster_candidate_A\n",
    "y2=cluster_b2[['V37']]\n",
    "unique, counts = np.unique(y2, return_counts=True)\n",
    "dict_X = dict(zip(unique, counts))\n",
    "dict_X"
   ]
  },
  {
   "cell_type": "code",
   "execution_count": 29,
   "metadata": {},
   "outputs": [],
   "source": [
    "#iteration_5\n",
    "it_data3=cluster_b1.iloc[:,:-2]\n",
    "it_data3.drop(['index'],axis=1,inplace=True)\n",
    "it_data3.reset_index(inplace=True)"
   ]
  },
  {
   "cell_type": "code",
   "execution_count": 30,
   "metadata": {},
   "outputs": [
    {
     "data": {
      "text/plain": [
       "array([1, 0, 1, ..., 1, 1, 1], dtype=int64)"
      ]
     },
     "execution_count": 30,
     "metadata": {},
     "output_type": "execute_result"
    }
   ],
   "source": [
    "#iteration_4\n",
    "it_scaled3=scp.fit_transform(it_data3)\n",
    "cluster3= AgglomerativeClustering(n_clusters=2, affinity='euclidean', linkage='ward')  \n",
    "cluster3.fit_predict(it_scaled3)"
   ]
  },
  {
   "cell_type": "code",
   "execution_count": 31,
   "metadata": {},
   "outputs": [],
   "source": [
    "#iteration_4_clustering\n",
    "it_result4=cluster_b1.iloc[:,:-1]\n",
    "it_result4.drop(['index'],axis=1,inplace=True)\n",
    "it_result4.reset_index(inplace=True)\n",
    "it_result4['cluster'] = pd.Series(cluster3.labels_).apply(lambda x:'A' if (x==0) else 'B')"
   ]
  },
  {
   "cell_type": "code",
   "execution_count": 32,
   "metadata": {},
   "outputs": [
    {
     "data": {
      "text/plain": [
       "{'A': 984, 'B': 529}"
      ]
     },
     "execution_count": 32,
     "metadata": {},
     "output_type": "execute_result"
    }
   ],
   "source": [
    "#iteration_2_cluster_candidate_B\n",
    "y2=it_result4[['cluster']]\n",
    "unique, counts = np.unique(y2, return_counts=True)\n",
    "dict_X = dict(zip(unique, counts))\n",
    "dict_X"
   ]
  },
  {
   "cell_type": "code",
   "execution_count": 33,
   "metadata": {},
   "outputs": [],
   "source": [
    "cluster_a3=it_result4.query('cluster==\"A\"')\n",
    "cluster_b3=it_result4.query('cluster==\"B\"')"
   ]
  },
  {
   "cell_type": "code",
   "execution_count": 34,
   "metadata": {},
   "outputs": [
    {
     "data": {
      "text/plain": [
       "{0: 980, 1: 4}"
      ]
     },
     "execution_count": 34,
     "metadata": {},
     "output_type": "execute_result"
    }
   ],
   "source": [
    "#iteration_4_cluster_candidate_A\n",
    "y2=cluster_a3[['V37']]\n",
    "unique, counts = np.unique(y2, return_counts=True)\n",
    "dict_X = dict(zip(unique, counts))\n",
    "dict_X"
   ]
  },
  {
   "cell_type": "code",
   "execution_count": 35,
   "metadata": {},
   "outputs": [
    {
     "data": {
      "text/plain": [
       "{0: 522, 1: 7}"
      ]
     },
     "execution_count": 35,
     "metadata": {},
     "output_type": "execute_result"
    }
   ],
   "source": [
    "y2=cluster_b3[['V37']]\n",
    "unique, counts = np.unique(y2, return_counts=True)\n",
    "dict_X = dict(zip(unique, counts))\n",
    "dict_X"
   ]
  },
  {
   "cell_type": "code",
   "execution_count": 36,
   "metadata": {},
   "outputs": [],
   "source": [
    "#iteration_\n",
    "it_data4=cluster_b3.iloc[:,:-2]\n",
    "it_data4.drop(['index'],axis=1,inplace=True)\n",
    "it_data4.reset_index(inplace=True)"
   ]
  },
  {
   "cell_type": "code",
   "execution_count": 37,
   "metadata": {},
   "outputs": [
    {
     "data": {
      "text/plain": [
       "array([1, 1, 1, 1, 1, 1, 1, 1, 1, 1, 1, 0, 0, 0, 0, 0, 1, 0, 1, 0, 0, 0,\n",
       "       1, 1, 1, 1, 0, 0, 1, 0, 1, 1, 1, 1, 1, 1, 0, 0, 0, 1, 1, 1, 0, 0,\n",
       "       0, 0, 0, 0, 1, 0, 0, 0, 0, 0, 0, 0, 0, 0, 0, 0, 0, 0, 0, 0, 0, 1,\n",
       "       0, 0, 0, 0, 0, 0, 1, 1, 0, 0, 0, 0, 0, 0, 0, 1, 0, 0, 0, 0, 0, 0,\n",
       "       0, 0, 0, 0, 0, 0, 1, 0, 0, 0, 0, 0, 0, 0, 0, 0, 0, 0, 0, 1, 1, 0,\n",
       "       0, 0, 0, 0, 0, 0, 0, 0, 0, 0, 0, 0, 1, 0, 0, 0, 0, 0, 0, 0, 0, 0,\n",
       "       0, 0, 0, 0, 0, 0, 1, 0, 0, 0, 0, 0, 0, 0, 0, 0, 0, 1, 0, 0, 0, 1,\n",
       "       0, 0, 0, 0, 1, 1, 0, 1, 1, 0, 0, 0, 0, 0, 1, 0, 0, 0, 0, 0, 0, 0,\n",
       "       1, 1, 0, 0, 0, 1, 1, 1, 0, 0, 0, 0, 0, 0, 0, 0, 0, 0, 0, 0, 1, 1,\n",
       "       0, 0, 0, 0, 0, 1, 1, 0, 0, 0, 0, 0, 0, 0, 0, 0, 0, 1, 1, 1, 0, 0,\n",
       "       0, 0, 0, 1, 1, 1, 0, 0, 0, 0, 0, 0, 0, 0, 0, 0, 0, 0, 0, 0, 0, 1,\n",
       "       0, 0, 0, 1, 0, 0, 0, 1, 1, 0, 0, 0, 1, 1, 1, 1, 1, 0, 0, 0, 0, 0,\n",
       "       1, 1, 0, 1, 0, 0, 0, 1, 1, 0, 1, 0, 1, 1, 0, 0, 0, 0, 0, 0, 0, 1,\n",
       "       0, 0, 0, 1, 0, 0, 0, 0, 0, 0, 0, 0, 0, 0, 1, 1, 0, 0, 0, 0, 1, 0,\n",
       "       0, 0, 0, 0, 1, 1, 0, 0, 0, 0, 0, 0, 0, 0, 0, 0, 0, 0, 1, 1, 0, 0,\n",
       "       0, 1, 1, 0, 0, 0, 1, 1, 1, 0, 0, 0, 0, 1, 1, 1, 1, 0, 0, 0, 0, 0,\n",
       "       0, 0, 0, 1, 0, 0, 0, 0, 1, 1, 1, 1, 1, 1, 1, 1, 0, 0, 1, 1, 1, 0,\n",
       "       0, 1, 0, 1, 1, 1, 1, 1, 1, 0, 0, 0, 0, 0, 0, 1, 0, 0, 0, 0, 0, 0,\n",
       "       0, 0, 0, 0, 0, 1, 1, 0, 0, 0, 0, 0, 0, 0, 0, 0, 0, 0, 0, 0, 1, 0,\n",
       "       0, 0, 0, 0, 0, 0, 0, 1, 0, 0, 1, 1, 0, 0, 0, 1, 1, 0, 1, 1, 0, 0,\n",
       "       0, 1, 0, 0, 0, 0, 0, 1, 1, 0, 0, 0, 1, 1, 1, 0, 0, 0, 0, 0, 0, 1,\n",
       "       1, 1, 0, 1, 1, 0, 0, 0, 0, 0, 1, 1, 1, 1, 1, 0, 0, 1, 0, 0, 0, 0,\n",
       "       0, 0, 0, 0, 0, 0, 0, 1, 1, 0, 0, 0, 0, 0, 0, 0, 1, 0, 0, 0, 1, 0,\n",
       "       0, 1, 0, 0, 1, 0, 0, 0, 0, 0, 0, 0, 0, 0, 0, 0, 1, 0, 0, 0, 0, 0,\n",
       "       0], dtype=int64)"
      ]
     },
     "execution_count": 37,
     "metadata": {},
     "output_type": "execute_result"
    }
   ],
   "source": [
    "#iteration_4\n",
    "it_scaled4=scp.fit_transform(it_data4)\n",
    "cluster4= AgglomerativeClustering(n_clusters=2, affinity='euclidean', linkage='ward')  \n",
    "cluster4.fit_predict(it_scaled4)"
   ]
  },
  {
   "cell_type": "code",
   "execution_count": 38,
   "metadata": {},
   "outputs": [],
   "source": [
    "#iteration_4_clustering\n",
    "it_result5=cluster_b3.iloc[:,:-1]\n",
    "it_result5.drop(['index'],axis=1,inplace=True)\n",
    "it_result5.reset_index(inplace=True)\n",
    "it_result5['cluster'] = pd.Series(cluster4.labels_).apply(lambda x:'A' if (x==0) else 'B')"
   ]
  },
  {
   "cell_type": "code",
   "execution_count": 39,
   "metadata": {},
   "outputs": [
    {
     "data": {
      "text/plain": [
       "{'A': 381, 'B': 148}"
      ]
     },
     "execution_count": 39,
     "metadata": {},
     "output_type": "execute_result"
    }
   ],
   "source": [
    "#iteration_2_cluster_candidate_B\n",
    "y2=it_result5[['cluster']]\n",
    "unique, counts = np.unique(y2, return_counts=True)\n",
    "dict_X = dict(zip(unique, counts))\n",
    "dict_X"
   ]
  },
  {
   "cell_type": "code",
   "execution_count": 40,
   "metadata": {},
   "outputs": [],
   "source": [
    "cluster_a4=it_result5.query('cluster==\"A\"')\n",
    "cluster_b4=it_result5.query('cluster==\"B\"')"
   ]
  },
  {
   "cell_type": "code",
   "execution_count": 41,
   "metadata": {},
   "outputs": [
    {
     "data": {
      "text/plain": [
       "{0: 381}"
      ]
     },
     "execution_count": 41,
     "metadata": {},
     "output_type": "execute_result"
    }
   ],
   "source": [
    "#iteration_4_cluster_candidate_A\n",
    "y2=cluster_a4[['V37']]\n",
    "unique, counts = np.unique(y2, return_counts=True)\n",
    "dict_X = dict(zip(unique, counts))\n",
    "dict_X"
   ]
  },
  {
   "cell_type": "code",
   "execution_count": 42,
   "metadata": {},
   "outputs": [
    {
     "data": {
      "text/plain": [
       "{0: 141, 1: 7}"
      ]
     },
     "execution_count": 42,
     "metadata": {},
     "output_type": "execute_result"
    }
   ],
   "source": [
    "#iteration_4_cluster_candidate_A\n",
    "y2=cluster_b4[['V37']]\n",
    "unique, counts = np.unique(y2, return_counts=True)\n",
    "dict_X = dict(zip(unique, counts))\n",
    "dict_X"
   ]
  },
  {
   "cell_type": "code",
   "execution_count": 43,
   "metadata": {},
   "outputs": [],
   "source": [
    "#iteration_6\n",
    "it_data5=cluster_b4.iloc[:,:-2]\n",
    "it_data5.drop(['index'],axis=1,inplace=True)\n",
    "it_data5.reset_index(inplace=True)"
   ]
  },
  {
   "cell_type": "code",
   "execution_count": 44,
   "metadata": {},
   "outputs": [
    {
     "data": {
      "text/plain": [
       "array([1, 1, 1, 1, 1, 1, 1, 1, 1, 1, 0, 0, 0, 0, 0, 0, 0, 0, 0, 0, 0, 0,\n",
       "       0, 0, 0, 0, 0, 0, 0, 0, 0, 0, 0, 0, 0, 0, 1, 0, 1, 0, 0, 0, 0, 0,\n",
       "       0, 0, 1, 0, 0, 1, 0, 0, 0, 0, 0, 0, 0, 0, 0, 0, 0, 0, 0, 0, 0, 0,\n",
       "       0, 0, 0, 0, 0, 0, 0, 0, 0, 0, 0, 0, 0, 0, 0, 0, 0, 0, 0, 0, 0, 0,\n",
       "       0, 0, 0, 0, 0, 0, 0, 0, 0, 0, 0, 0, 0, 1, 1, 0, 0, 0, 0, 0, 0, 0,\n",
       "       0, 0, 0, 0, 0, 0, 0, 0, 1, 1, 1, 0, 0, 0, 0, 0, 0, 0, 0, 0, 0, 0,\n",
       "       0, 0, 0, 0, 0, 0, 0, 0, 0, 0, 0, 0, 0, 0, 0, 0], dtype=int64)"
      ]
     },
     "execution_count": 44,
     "metadata": {},
     "output_type": "execute_result"
    }
   ],
   "source": [
    "#iteration_4\n",
    "it_scaled5=scp.fit_transform(it_data5)\n",
    "cluster5= AgglomerativeClustering(n_clusters=2, affinity='euclidean', linkage='ward')  \n",
    "cluster5.fit_predict(it_scaled5)"
   ]
  },
  {
   "cell_type": "code",
   "execution_count": 45,
   "metadata": {},
   "outputs": [],
   "source": [
    "#iteration_4_clustering\n",
    "it_result6=cluster_b4.iloc[:,:-1]\n",
    "it_result6.drop(['index'],axis=1,inplace=True)\n",
    "it_result6.reset_index(inplace=True)\n",
    "it_result6['cluster'] = pd.Series(cluster5.labels_).apply(lambda x:'A' if (x==0) else 'B')"
   ]
  },
  {
   "cell_type": "code",
   "execution_count": 46,
   "metadata": {},
   "outputs": [
    {
     "data": {
      "text/plain": [
       "{'A': 129, 'B': 19}"
      ]
     },
     "execution_count": 46,
     "metadata": {},
     "output_type": "execute_result"
    }
   ],
   "source": [
    "#iteration_2_cluster_candidate_B\n",
    "y2=it_result6[['cluster']]\n",
    "unique, counts = np.unique(y2, return_counts=True)\n",
    "dict_X = dict(zip(unique, counts))\n",
    "dict_X"
   ]
  },
  {
   "cell_type": "code",
   "execution_count": 47,
   "metadata": {},
   "outputs": [],
   "source": [
    "cluster_a5=it_result6.query('cluster==\"A\"')\n",
    "cluster_b5=it_result6.query('cluster==\"B\"')"
   ]
  },
  {
   "cell_type": "code",
   "execution_count": 48,
   "metadata": {},
   "outputs": [
    {
     "data": {
      "text/plain": [
       "{0: 129}"
      ]
     },
     "execution_count": 48,
     "metadata": {},
     "output_type": "execute_result"
    }
   ],
   "source": [
    "#iteration_4_cluster_candidate_A\n",
    "y2=cluster_a5[['V37']]\n",
    "unique, counts = np.unique(y2, return_counts=True)\n",
    "dict_X = dict(zip(unique, counts))\n",
    "dict_X"
   ]
  },
  {
   "cell_type": "code",
   "execution_count": 49,
   "metadata": {},
   "outputs": [
    {
     "data": {
      "text/plain": [
       "{0: 12, 1: 7}"
      ]
     },
     "execution_count": 49,
     "metadata": {},
     "output_type": "execute_result"
    }
   ],
   "source": [
    "#iteration_4_cluster_candidate_A\n",
    "y2=cluster_b5[['V37']]\n",
    "unique, counts = np.unique(y2, return_counts=True)\n",
    "dict_X = dict(zip(unique, counts))\n",
    "dict_X"
   ]
  },
  {
   "cell_type": "code",
   "execution_count": 50,
   "metadata": {},
   "outputs": [
    {
     "data": {
      "text/plain": [
       "array([0, 0, 1, 0, 1, 0, 1, 0, 0, 0, 0, 0, 0, 0, 0, 0, 0, 0, 0],\n",
       "      dtype=int64)"
      ]
     },
     "execution_count": 50,
     "metadata": {},
     "output_type": "execute_result"
    }
   ],
   "source": [
    "#iteration_6\n",
    "it_data6=cluster_b5.iloc[:,:-2]\n",
    "it_data6.drop(['index'],axis=1,inplace=True)\n",
    "it_data6.reset_index(inplace=True)\n",
    "\n",
    "#iteration_4\n",
    "it_scaled6=scp.fit_transform(it_data6)\n",
    "cluster6= AgglomerativeClustering(n_clusters=2, affinity='euclidean', linkage='ward')  \n",
    "cluster6.fit_predict(it_scaled6)"
   ]
  },
  {
   "cell_type": "code",
   "execution_count": 51,
   "metadata": {},
   "outputs": [],
   "source": [
    "#iteration_4_clustering\n",
    "it_result7=cluster_b5.iloc[:,:-1]\n",
    "it_result7.drop(['index'],axis=1,inplace=True)\n",
    "it_result7.reset_index(inplace=True)\n",
    "it_result7['cluster'] = pd.Series(cluster6.labels_).apply(lambda x:'A' if (x==0) else 'B')"
   ]
  },
  {
   "cell_type": "code",
   "execution_count": 52,
   "metadata": {},
   "outputs": [
    {
     "data": {
      "text/plain": [
       "{'A': 16, 'B': 3}"
      ]
     },
     "execution_count": 52,
     "metadata": {},
     "output_type": "execute_result"
    }
   ],
   "source": [
    "#iteration_2_cluster_candidate_B\n",
    "y2=it_result7[['cluster']]\n",
    "unique, counts = np.unique(y2, return_counts=True)\n",
    "dict_X = dict(zip(unique, counts))\n",
    "dict_X"
   ]
  },
  {
   "cell_type": "code",
   "execution_count": 53,
   "metadata": {},
   "outputs": [],
   "source": [
    "cluster_a6=it_result7.query('cluster==\"A\"')\n",
    "cluster_b6=it_result7.query('cluster==\"B\"')"
   ]
  },
  {
   "cell_type": "code",
   "execution_count": 54,
   "metadata": {},
   "outputs": [
    {
     "data": {
      "text/plain": [
       "{0: 12, 1: 4}"
      ]
     },
     "execution_count": 54,
     "metadata": {},
     "output_type": "execute_result"
    }
   ],
   "source": [
    "#iteration_4_cluster_candidate_A\n",
    "y2=cluster_a6[['V37']]\n",
    "unique, counts = np.unique(y2, return_counts=True)\n",
    "dict_X = dict(zip(unique, counts))\n",
    "dict_X"
   ]
  },
  {
   "cell_type": "code",
   "execution_count": 55,
   "metadata": {},
   "outputs": [
    {
     "data": {
      "text/plain": [
       "{1: 3}"
      ]
     },
     "execution_count": 55,
     "metadata": {},
     "output_type": "execute_result"
    }
   ],
   "source": [
    "#iteration_4_cluster_candidate_A\n",
    "y2=cluster_b6[['V37']]\n",
    "unique, counts = np.unique(y2, return_counts=True)\n",
    "dict_X = dict(zip(unique, counts))\n",
    "dict_X"
   ]
  },
  {
   "cell_type": "code",
   "execution_count": 56,
   "metadata": {},
   "outputs": [
    {
     "data": {
      "text/plain": [
       "array([0, 0, 0, 0, 0, 0, 0, 1, 1, 1, 1, 0, 0, 1, 1, 1], dtype=int64)"
      ]
     },
     "execution_count": 56,
     "metadata": {},
     "output_type": "execute_result"
    }
   ],
   "source": [
    "#iteration_6\n",
    "it_data7=cluster_a6.iloc[:,:-2]\n",
    "it_data7.drop(['index'],axis=1,inplace=True)\n",
    "it_data7.reset_index(inplace=True)\n",
    "\n",
    "#iteration_4\n",
    "it_scaled7=scp.fit_transform(it_data7)\n",
    "cluster7= AgglomerativeClustering(n_clusters=2, affinity='euclidean', linkage='ward')  \n",
    "cluster7.fit_predict(it_scaled7)"
   ]
  },
  {
   "cell_type": "code",
   "execution_count": 57,
   "metadata": {},
   "outputs": [],
   "source": [
    "#iteration_4_clustering\n",
    "it_result8=cluster_a6.iloc[:,:-1]\n",
    "it_result8.drop(['index'],axis=1,inplace=True)\n",
    "it_result8.reset_index(inplace=True)\n",
    "it_result8['cluster'] = pd.Series(cluster7.labels_).apply(lambda x:'A' if (x==0) else 'B')"
   ]
  },
  {
   "cell_type": "code",
   "execution_count": 58,
   "metadata": {},
   "outputs": [
    {
     "data": {
      "text/plain": [
       "{'A': 9, 'B': 7}"
      ]
     },
     "execution_count": 58,
     "metadata": {},
     "output_type": "execute_result"
    }
   ],
   "source": [
    "#iteration_2_cluster_candidate_B\n",
    "y2=it_result8[['cluster']]\n",
    "unique, counts = np.unique(y2, return_counts=True)\n",
    "dict_X = dict(zip(unique, counts))\n",
    "dict_X"
   ]
  },
  {
   "cell_type": "code",
   "execution_count": 59,
   "metadata": {},
   "outputs": [],
   "source": [
    "cluster_a7=it_result8.query('cluster==\"A\"')\n",
    "cluster_b7=it_result8.query('cluster==\"B\"')"
   ]
  },
  {
   "cell_type": "code",
   "execution_count": 60,
   "metadata": {},
   "outputs": [
    {
     "data": {
      "text/plain": [
       "{0: 5, 1: 4}"
      ]
     },
     "execution_count": 60,
     "metadata": {},
     "output_type": "execute_result"
    }
   ],
   "source": [
    "#iteration_4_cluster_candidate_A\n",
    "y2=cluster_a7[['V37']]\n",
    "unique, counts = np.unique(y2, return_counts=True)\n",
    "dict_X = dict(zip(unique, counts))\n",
    "dict_X"
   ]
  },
  {
   "cell_type": "code",
   "execution_count": 61,
   "metadata": {},
   "outputs": [
    {
     "data": {
      "text/plain": [
       "{0: 7}"
      ]
     },
     "execution_count": 61,
     "metadata": {},
     "output_type": "execute_result"
    }
   ],
   "source": [
    "#iteration_4_cluster_candidate_A\n",
    "y2=cluster_b7[['V37']]\n",
    "unique, counts = np.unique(y2, return_counts=True)\n",
    "dict_X = dict(zip(unique, counts))\n",
    "dict_X"
   ]
  },
  {
   "cell_type": "code",
   "execution_count": 62,
   "metadata": {},
   "outputs": [
    {
     "data": {
      "text/plain": [
       "array([0, 0, 0, 0, 1, 0, 0, 0, 0], dtype=int64)"
      ]
     },
     "execution_count": 62,
     "metadata": {},
     "output_type": "execute_result"
    }
   ],
   "source": [
    "#iteration_6\n",
    "it_data8=cluster_a7.iloc[:,:-2]\n",
    "it_data8.drop(['index'],axis=1,inplace=True)\n",
    "it_data8.reset_index(inplace=True)\n",
    "\n",
    "#iteration_4\n",
    "it_scaled8=scp.fit_transform(it_data8)\n",
    "cluster8= AgglomerativeClustering(n_clusters=2, affinity='euclidean', linkage='ward')  \n",
    "cluster8.fit_predict(it_scaled8)"
   ]
  },
  {
   "cell_type": "code",
   "execution_count": 63,
   "metadata": {},
   "outputs": [],
   "source": [
    "#iteration_4_clustering\n",
    "it_result9=cluster_a7.iloc[:,:-1]\n",
    "it_result9.drop(['index'],axis=1,inplace=True)\n",
    "it_result9.reset_index(inplace=True)\n",
    "it_result9['cluster'] = pd.Series(cluster8.labels_).apply(lambda x:'A' if (x==0) else 'B')"
   ]
  },
  {
   "cell_type": "code",
   "execution_count": 64,
   "metadata": {},
   "outputs": [
    {
     "data": {
      "text/plain": [
       "{'A': 8, 'B': 1}"
      ]
     },
     "execution_count": 64,
     "metadata": {},
     "output_type": "execute_result"
    }
   ],
   "source": [
    "#iteration_2_cluster_candidate_B\n",
    "y2=it_result9[['cluster']]\n",
    "unique, counts = np.unique(y2, return_counts=True)\n",
    "dict_X = dict(zip(unique, counts))\n",
    "dict_X"
   ]
  },
  {
   "cell_type": "code",
   "execution_count": 65,
   "metadata": {},
   "outputs": [],
   "source": [
    "cluster_a8=it_result9.query('cluster==\"A\"')\n",
    "cluster_b8=it_result9.query('cluster==\"B\"')"
   ]
  },
  {
   "cell_type": "code",
   "execution_count": 66,
   "metadata": {},
   "outputs": [
    {
     "data": {
      "text/plain": [
       "{0: 4, 1: 4}"
      ]
     },
     "execution_count": 66,
     "metadata": {},
     "output_type": "execute_result"
    }
   ],
   "source": [
    "#iteration_4_cluster_candidate_A\n",
    "y2=cluster_a8[['V37']]\n",
    "unique, counts = np.unique(y2, return_counts=True)\n",
    "dict_X = dict(zip(unique, counts))\n",
    "dict_X"
   ]
  },
  {
   "cell_type": "code",
   "execution_count": 68,
   "metadata": {},
   "outputs": [
    {
     "data": {
      "text/plain": [
       "{0: 1}"
      ]
     },
     "execution_count": 68,
     "metadata": {},
     "output_type": "execute_result"
    }
   ],
   "source": [
    "#iteration_4_cluster_candidate_A\n",
    "y2=cluster_b8[['V37']]\n",
    "unique, counts = np.unique(y2, return_counts=True)\n",
    "dict_X = dict(zip(unique, counts))\n",
    "dict_X"
   ]
  },
  {
   "cell_type": "code",
   "execution_count": 69,
   "metadata": {},
   "outputs": [
    {
     "data": {
      "text/plain": [
       "array([1, 1, 1, 0, 0, 0, 0, 0], dtype=int64)"
      ]
     },
     "execution_count": 69,
     "metadata": {},
     "output_type": "execute_result"
    }
   ],
   "source": [
    "#iteration_6\n",
    "it_data9=cluster_a8.iloc[:,:-2]\n",
    "it_data9.drop(['index'],axis=1,inplace=True)\n",
    "it_data9.reset_index(inplace=True)\n",
    "\n",
    "#iteration_4\n",
    "it_scaled9=scp.fit_transform(it_data9)\n",
    "cluster9= AgglomerativeClustering(n_clusters=2, affinity='euclidean', linkage='ward')  \n",
    "cluster9.fit_predict(it_scaled9)"
   ]
  },
  {
   "cell_type": "code",
   "execution_count": 70,
   "metadata": {},
   "outputs": [],
   "source": [
    "#iteration_4_clustering\n",
    "it_result10=cluster_a8.iloc[:,:-1]\n",
    "it_result10.drop(['index'],axis=1,inplace=True)\n",
    "it_result10.reset_index(inplace=True)\n",
    "it_result10['cluster'] = pd.Series(cluster9.labels_).apply(lambda x:'A' if (x==0) else 'B')"
   ]
  },
  {
   "cell_type": "code",
   "execution_count": 71,
   "metadata": {},
   "outputs": [],
   "source": [
    "cluster_a9=it_result10.query('cluster==\"A\"')\n",
    "cluster_b9=it_result10.query('cluster==\"B\"')"
   ]
  },
  {
   "cell_type": "code",
   "execution_count": 72,
   "metadata": {},
   "outputs": [
    {
     "data": {
      "text/plain": [
       "{0: 4, 1: 1}"
      ]
     },
     "execution_count": 72,
     "metadata": {},
     "output_type": "execute_result"
    }
   ],
   "source": [
    "#iteration_4_cluster_candidate_A\n",
    "y2=cluster_a9[['V37']]\n",
    "unique, counts = np.unique(y2, return_counts=True)\n",
    "dict_X = dict(zip(unique, counts))\n",
    "dict_X"
   ]
  },
  {
   "cell_type": "code",
   "execution_count": 73,
   "metadata": {},
   "outputs": [
    {
     "data": {
      "text/plain": [
       "{1: 3}"
      ]
     },
     "execution_count": 73,
     "metadata": {},
     "output_type": "execute_result"
    }
   ],
   "source": [
    "#iteration_4_cluster_candidate_A\n",
    "y2=cluster_b9[['V37']]\n",
    "unique, counts = np.unique(y2, return_counts=True)\n",
    "dict_X = dict(zip(unique, counts))\n",
    "dict_X"
   ]
  },
  {
   "cell_type": "code",
   "execution_count": 74,
   "metadata": {},
   "outputs": [
    {
     "data": {
      "text/plain": [
       "array([0, 1, 0, 0, 1], dtype=int64)"
      ]
     },
     "execution_count": 74,
     "metadata": {},
     "output_type": "execute_result"
    }
   ],
   "source": [
    "#iteration_6\n",
    "it_data10=cluster_a9.iloc[:,:-2]\n",
    "it_data10.drop(['index'],axis=1,inplace=True)\n",
    "it_data10.reset_index(inplace=True)\n",
    "\n",
    "#iteration_4\n",
    "it_scaled10=scp.fit_transform(it_data10)\n",
    "cluster10= AgglomerativeClustering(n_clusters=2, affinity='euclidean', linkage='ward')  \n",
    "cluster10.fit_predict(it_scaled10)"
   ]
  },
  {
   "cell_type": "code",
   "execution_count": 75,
   "metadata": {},
   "outputs": [],
   "source": [
    "#iteration_4_clustering\n",
    "it_result11=cluster_a9.iloc[:,:-1]\n",
    "it_result11.drop(['index'],axis=1,inplace=True)\n",
    "it_result11.reset_index(inplace=True)\n",
    "it_result11['cluster'] = pd.Series(cluster10.labels_).apply(lambda x:'A' if (x==0) else 'B')"
   ]
  },
  {
   "cell_type": "code",
   "execution_count": 76,
   "metadata": {},
   "outputs": [],
   "source": [
    "cluster_a10=it_result11.query('cluster==\"A\"')\n",
    "cluster_b10=it_result11.query('cluster==\"B\"')"
   ]
  },
  {
   "cell_type": "code",
   "execution_count": 77,
   "metadata": {},
   "outputs": [
    {
     "data": {
      "text/plain": [
       "{0: 2, 1: 1}"
      ]
     },
     "execution_count": 77,
     "metadata": {},
     "output_type": "execute_result"
    }
   ],
   "source": [
    "#iteration_4_cluster_candidate_A\n",
    "y2=cluster_a10[['V37']]\n",
    "unique, counts = np.unique(y2, return_counts=True)\n",
    "dict_X = dict(zip(unique, counts))\n",
    "dict_X"
   ]
  },
  {
   "cell_type": "code",
   "execution_count": 78,
   "metadata": {},
   "outputs": [
    {
     "data": {
      "text/plain": [
       "{0: 2}"
      ]
     },
     "execution_count": 78,
     "metadata": {},
     "output_type": "execute_result"
    }
   ],
   "source": [
    "#iteration_4_cluster_candidate_A\n",
    "y2=cluster_b10[['V37']]\n",
    "unique, counts = np.unique(y2, return_counts=True)\n",
    "dict_X = dict(zip(unique, counts))\n",
    "dict_X"
   ]
  },
  {
   "cell_type": "code",
   "execution_count": 79,
   "metadata": {},
   "outputs": [
    {
     "data": {
      "text/plain": [
       "array([1, 0, 0], dtype=int64)"
      ]
     },
     "execution_count": 79,
     "metadata": {},
     "output_type": "execute_result"
    }
   ],
   "source": [
    "#iteration_6\n",
    "it_data11=cluster_a10.iloc[:,:-2]\n",
    "it_data11.drop(['index'],axis=1,inplace=True)\n",
    "it_data11.reset_index(inplace=True)\n",
    "\n",
    "#iteration_4\n",
    "it_scaled11=scp.fit_transform(it_data11)\n",
    "cluster11= AgglomerativeClustering(n_clusters=2, affinity='euclidean', linkage='ward')  \n",
    "cluster11.fit_predict(it_scaled11)"
   ]
  },
  {
   "cell_type": "code",
   "execution_count": 80,
   "metadata": {},
   "outputs": [],
   "source": [
    "#iteration_4_clustering\n",
    "it_result12=cluster_a10.iloc[:,:-1]\n",
    "it_result12.drop(['index'],axis=1,inplace=True)\n",
    "it_result12.reset_index(inplace=True)\n",
    "it_result12['cluster'] = pd.Series(cluster11.labels_).apply(lambda x:'A' if (x==0) else 'B')"
   ]
  },
  {
   "cell_type": "code",
   "execution_count": 81,
   "metadata": {},
   "outputs": [],
   "source": [
    "cluster_a11=it_result12.query('cluster==\"A\"')\n",
    "cluster_b11=it_result12.query('cluster==\"B\"')"
   ]
  },
  {
   "cell_type": "code",
   "execution_count": 82,
   "metadata": {},
   "outputs": [
    {
     "data": {
      "text/plain": [
       "{0: 2}"
      ]
     },
     "execution_count": 82,
     "metadata": {},
     "output_type": "execute_result"
    }
   ],
   "source": [
    "#iteration_4_cluster_candidate_A\n",
    "y2=cluster_a11[['V37']]\n",
    "unique, counts = np.unique(y2, return_counts=True)\n",
    "dict_X = dict(zip(unique, counts))\n",
    "dict_X"
   ]
  },
  {
   "cell_type": "code",
   "execution_count": 83,
   "metadata": {},
   "outputs": [
    {
     "data": {
      "text/plain": [
       "{1: 1}"
      ]
     },
     "execution_count": 83,
     "metadata": {},
     "output_type": "execute_result"
    }
   ],
   "source": [
    "#iteration_4_cluster_candidate_A\n",
    "y2=cluster_b11[['V37']]\n",
    "unique, counts = np.unique(y2, return_counts=True)\n",
    "dict_X = dict(zip(unique, counts))\n",
    "dict_X"
   ]
  },
  {
   "cell_type": "code",
   "execution_count": 84,
   "metadata": {},
   "outputs": [
    {
     "data": {
      "text/plain": [
       "array([0, 0, 0, 0, 1, 1, 1, 0, 0, 0, 0, 0, 0, 1, 1, 0, 0, 0, 1, 0, 0, 0,\n",
       "       0, 0, 0, 1, 1, 0, 0, 0, 1, 1, 1, 0, 0, 0, 0, 0, 0, 0, 1, 1, 1, 1,\n",
       "       1, 1, 0, 0, 0, 0, 0, 0, 0, 0, 0, 0, 0, 0, 1, 1, 1, 0, 0, 1, 1, 0,\n",
       "       0, 0, 0, 0, 0, 0, 0, 0, 0, 1, 1, 1, 1, 0, 0, 0, 0, 1, 0, 0, 0, 0,\n",
       "       1, 1, 1, 1, 0, 0, 1, 0, 0, 0, 0, 1, 1, 1, 1, 1, 0, 0, 0, 0, 1, 1,\n",
       "       1, 0, 0, 1, 0, 0, 0, 0, 0, 0, 0, 1, 1, 0, 1, 1, 1, 0, 1, 1, 0, 1,\n",
       "       0, 0, 1, 0, 0, 0, 1, 0, 0, 1, 0, 1, 0, 1, 1, 1, 0, 0, 0, 0, 1, 1,\n",
       "       1, 1, 1, 1, 1, 1, 1, 0, 0, 0, 0, 1, 0, 0, 1, 0, 1, 1, 1, 1, 1, 1,\n",
       "       1, 1, 1, 1, 1, 1, 0, 0, 0, 0, 0, 0, 1, 1, 1, 1, 1, 1, 1, 0, 0, 0,\n",
       "       0, 0, 0, 1, 1, 1, 1, 1, 1, 1, 1, 1, 0, 0, 1, 0, 0, 0, 1, 0, 0, 0,\n",
       "       0, 0, 0, 0, 0, 0, 0, 0, 1, 0, 0, 1, 0, 0, 0, 0, 0, 0, 0, 0, 0, 0,\n",
       "       0, 0, 0, 0, 0, 0, 0, 0, 0, 0, 0, 0, 0, 0, 0, 0, 0, 1, 0, 0, 0, 0,\n",
       "       0, 0, 0, 0, 0, 1, 0, 0, 0, 0, 0, 1, 0, 0, 0, 1, 0, 0, 0, 0, 0, 1,\n",
       "       0, 1, 0, 0, 0, 0, 0, 0, 0, 0, 0, 0, 0, 0, 0, 0, 0, 0, 0, 0, 0, 0,\n",
       "       0, 0, 1, 1, 0, 0, 0, 0, 0, 0, 0, 0, 0, 0, 1, 1, 0, 0, 0, 0, 0, 0,\n",
       "       0, 0, 0, 0, 0, 1, 1, 0, 0, 0, 0, 0, 0, 0, 0, 0, 1, 0, 1, 0, 0, 0,\n",
       "       0, 0, 1, 1, 1, 0, 0, 0, 1, 0, 0, 0, 0, 0, 0, 0, 0, 1, 1, 1, 0, 0,\n",
       "       1, 0, 0, 0, 0, 0, 0, 0, 1, 1, 0, 0, 0, 0, 0, 1, 1, 0, 1, 1, 0, 0,\n",
       "       0, 0, 0, 1, 0, 0, 0, 0, 1, 1, 1, 0, 0, 0, 1, 0, 0, 0, 0, 1, 1, 1,\n",
       "       0, 0, 0, 0, 0, 0, 0, 0, 1, 0, 0, 0, 0, 0, 0, 0, 1, 0, 0, 1, 1, 0,\n",
       "       0, 0, 0, 0, 0, 0, 0, 0, 0, 1, 0, 0, 0, 0, 0, 0, 0, 0, 0, 0, 0, 1,\n",
       "       0, 0, 0, 0, 0, 0, 0, 0, 0, 0, 0, 0, 0, 0, 0, 0, 0, 0, 0, 0, 0, 0,\n",
       "       0, 0, 0, 0, 0, 1, 1, 0, 0, 0, 0, 0, 0, 0, 0, 0, 0, 0, 0, 1, 1, 0,\n",
       "       0, 0, 1, 1, 0, 0, 0, 0, 0, 0, 0, 0, 1, 1, 0, 0, 1, 1, 1, 1, 0, 0,\n",
       "       0, 0, 0, 0, 0, 0, 0, 1, 0, 0, 0, 1, 1, 0, 0, 0, 0, 0, 0, 0, 1, 0,\n",
       "       0, 1, 1, 1, 0, 1, 0, 0, 0, 0, 1, 0, 1, 1, 1, 1, 0, 0, 0, 0, 0, 0,\n",
       "       0, 0, 0, 0, 1, 0, 0, 0, 0, 0, 0, 1, 1, 1, 1, 0, 0, 0, 0, 0, 0, 0,\n",
       "       1, 1, 1, 1, 0, 0, 0, 1, 1, 0, 0, 1, 1, 1, 0, 0, 1, 0, 0, 0, 1, 1,\n",
       "       0, 0, 0, 0, 1, 1, 0, 1, 1, 0, 1, 0, 1, 1, 0, 0, 0, 1, 0, 0, 1, 1,\n",
       "       1, 0, 1, 0, 0, 1, 0, 0, 0, 1, 1, 0, 0, 0, 1, 1, 1, 0, 0, 0, 0, 1,\n",
       "       1, 1, 1, 1, 1, 0, 0, 0, 0, 0, 0, 0, 0, 1, 0, 0, 0, 0, 0, 0, 0, 1,\n",
       "       0, 0, 0, 1, 0, 0, 0, 0, 0, 0, 0, 1, 1, 0, 1, 1, 0, 0, 0, 1, 1, 1,\n",
       "       0, 0, 1, 0, 0, 0, 0, 0, 0, 1, 1, 0, 0, 0, 0, 0, 1, 0, 0, 0, 1, 0,\n",
       "       0, 0, 0, 0, 0, 1, 0, 1, 0, 1, 0, 1, 0, 0, 0, 0, 0, 0, 0, 0, 0, 0,\n",
       "       1, 1, 0, 1, 1, 0, 1, 1, 0, 0, 0, 0, 1, 1, 0, 1, 1, 1, 0, 0, 1, 0,\n",
       "       0, 0, 0, 0, 0, 0, 0, 0, 0, 0, 0, 0, 1, 0, 0, 1, 0, 0, 0, 0, 0, 0,\n",
       "       0, 0, 0, 1, 0, 0, 1, 0, 0, 0, 0, 0, 0, 0, 0, 0, 0, 0, 0, 0, 1, 1,\n",
       "       0, 0, 0, 0, 0, 1, 0, 1, 0, 0, 0, 1, 0, 0, 0, 0, 0, 0, 1, 1, 0, 0,\n",
       "       0, 0, 0, 1, 0, 0, 0, 0, 0, 0, 1, 0, 0, 0, 0, 0, 0, 0, 1, 0, 0, 0,\n",
       "       0, 0, 0, 0, 1, 0, 0, 0, 1, 0, 0, 0, 0, 1, 0, 0, 1, 1, 0, 0, 0, 0,\n",
       "       0, 1, 0, 0, 0, 0, 0, 0, 0, 0, 0, 0, 0, 0, 0, 1, 1, 1, 0, 0, 0, 0,\n",
       "       1, 1, 0, 0, 0, 0, 0, 0, 0, 0, 0, 0, 0, 0, 0, 0, 0, 0, 0, 0, 1, 0,\n",
       "       0, 0, 0, 0, 0, 0, 0, 0, 1, 1, 0, 0, 0, 0, 0, 0, 0, 0, 1, 1, 1, 0,\n",
       "       0, 1, 1, 1, 1, 1, 0, 1, 1, 1, 0, 1, 1, 1, 1, 1, 1, 1, 1, 1, 1, 1,\n",
       "       0, 0, 0, 1, 1, 1, 1, 1, 1, 1, 1, 1, 1, 0, 0, 1], dtype=int64)"
      ]
     },
     "execution_count": 84,
     "metadata": {},
     "output_type": "execute_result"
    }
   ],
   "source": [
    "#iteration_6\n",
    "it_data12=cluster_a3.iloc[:,:-2]\n",
    "it_data12.drop(['index'],axis=1,inplace=True)\n",
    "it_data12.reset_index(inplace=True)\n",
    "\n",
    "#iteration_4\n",
    "it_scaled12=scp.fit_transform(it_data12)\n",
    "cluster12= AgglomerativeClustering(n_clusters=2, affinity='euclidean', linkage='ward')  \n",
    "cluster12.fit_predict(it_scaled12)"
   ]
  },
  {
   "cell_type": "code",
   "execution_count": 85,
   "metadata": {},
   "outputs": [],
   "source": [
    "#iteration_4_clustering\n",
    "it_result13=cluster_a3.iloc[:,:-1]\n",
    "it_result13.drop(['index'],axis=1,inplace=True)\n",
    "it_result13.reset_index(inplace=True)\n",
    "it_result13['cluster'] = pd.Series(cluster12.labels_).apply(lambda x:'A' if (x==0) else 'B')"
   ]
  },
  {
   "cell_type": "code",
   "execution_count": 86,
   "metadata": {},
   "outputs": [],
   "source": [
    "cluster_a12=it_result13.query('cluster==\"A\"')\n",
    "cluster_b12=it_result13.query('cluster==\"B\"')"
   ]
  },
  {
   "cell_type": "code",
   "execution_count": 87,
   "metadata": {},
   "outputs": [
    {
     "data": {
      "text/plain": [
       "{0: 681, 1: 4}"
      ]
     },
     "execution_count": 87,
     "metadata": {},
     "output_type": "execute_result"
    }
   ],
   "source": [
    "#iteration_4_cluster_candidate_A\n",
    "y2=cluster_a12[['V37']]\n",
    "unique, counts = np.unique(y2, return_counts=True)\n",
    "dict_X = dict(zip(unique, counts))\n",
    "dict_X"
   ]
  },
  {
   "cell_type": "code",
   "execution_count": 88,
   "metadata": {},
   "outputs": [
    {
     "data": {
      "text/plain": [
       "{0: 299}"
      ]
     },
     "execution_count": 88,
     "metadata": {},
     "output_type": "execute_result"
    }
   ],
   "source": [
    "#iteration_4_cluster_candidate_A\n",
    "y2=cluster_b12[['V37']]\n",
    "unique, counts = np.unique(y2, return_counts=True)\n",
    "dict_X = dict(zip(unique, counts))\n",
    "dict_X"
   ]
  },
  {
   "cell_type": "code",
   "execution_count": 89,
   "metadata": {},
   "outputs": [
    {
     "data": {
      "text/plain": [
       "array([1, 1, 1, 1, 0, 0, 0, 0, 0, 0, 1, 1, 1, 0, 0, 0, 0, 0, 1, 1, 1, 1,\n",
       "       0, 0, 0, 0, 0, 0, 0, 1, 1, 0, 0, 0, 0, 0, 0, 0, 0, 0, 1, 1, 1, 0,\n",
       "       0, 0, 0, 0, 0, 0, 1, 1, 1, 0, 0, 1, 1, 0, 0, 0, 1, 1, 1, 0, 0, 0,\n",
       "       0, 0, 0, 1, 1, 0, 0, 1, 0, 0, 0, 0, 1, 0, 0, 0, 0, 0, 0, 0, 0, 0,\n",
       "       0, 0, 0, 0, 0, 0, 0, 0, 0, 0, 0, 0, 0, 0, 0, 0, 0, 0, 1, 1, 0, 0,\n",
       "       0, 0, 0, 0, 0, 0, 0, 0, 0, 1, 0, 1, 0, 1, 0, 0, 1, 1, 0, 0, 0, 1,\n",
       "       1, 0, 0, 0, 0, 1, 1, 1, 1, 1, 1, 1, 1, 1, 1, 1, 1, 0, 0, 0, 0, 0,\n",
       "       0, 0, 0, 0, 1, 1, 0, 0, 0, 0, 0, 0, 0, 1, 1, 0, 0, 0, 1, 1, 0, 1,\n",
       "       1, 1, 1, 1, 0, 0, 1, 1, 1, 1, 1, 0, 1, 0, 1, 0, 0, 0, 0, 0, 0, 0,\n",
       "       0, 1, 1, 0, 0, 0, 0, 0, 0, 0, 0, 1, 0, 0, 0, 0, 0, 0, 0, 0, 1, 1,\n",
       "       1, 0, 0, 0, 1, 0, 0, 0, 1, 1, 1, 1, 1, 1, 0, 0, 1, 0, 1, 0, 0, 1,\n",
       "       0, 1, 0, 0, 0, 1, 1, 0, 0, 0, 0, 0, 0, 0, 0, 0, 0, 0, 0, 1, 1, 1,\n",
       "       1, 0, 0, 1, 0, 1, 0, 0, 1, 0, 1, 0, 1, 1, 0, 0, 0, 0, 0, 1, 0, 0,\n",
       "       0, 1, 1, 0, 0, 1, 0, 0, 0, 0, 0, 0, 0, 0, 1, 0, 0, 0, 1, 1, 0, 1,\n",
       "       0, 0, 1, 0, 0, 0, 0, 0, 0, 1, 1, 0, 0, 0, 0, 0, 0, 0, 1, 1, 0, 0,\n",
       "       1, 1, 0, 0, 1, 0, 0, 0, 0, 0, 1, 0, 0, 0, 1, 1, 1, 1, 0, 0, 0, 0,\n",
       "       0, 0, 0, 1, 1, 0, 1, 0, 1, 1, 1, 0, 0, 0, 0, 1, 1, 0, 0, 1, 1, 0,\n",
       "       0, 0, 0, 0, 0, 1, 0, 0, 1, 1, 1, 0, 0, 0, 0, 0, 0, 0, 0, 0, 0, 1,\n",
       "       1, 1, 1, 1, 0, 0, 0, 1, 0, 1, 0, 1, 1, 1, 0, 1, 1, 1, 1, 1, 1, 0,\n",
       "       0, 1, 1, 1, 1, 0, 1, 1, 1, 1, 1, 1, 1, 1, 1, 1, 1, 1, 1, 1, 1, 1,\n",
       "       1, 1, 1, 0, 1, 0, 1, 0, 0, 0, 0, 0, 0, 0, 0, 0, 0, 0, 0, 0, 0, 0,\n",
       "       0, 0, 1, 0, 0, 0, 0, 0, 1, 1, 1, 1, 1, 1, 1, 0, 0, 0, 0, 1, 1, 1,\n",
       "       0, 1, 1, 0, 0, 1, 0, 1, 0, 0, 1, 0, 0, 1, 1, 1, 0, 0, 1, 0, 0, 0,\n",
       "       0, 0, 0, 1, 0, 0, 0, 0, 0, 0, 1, 0, 0, 0, 0, 0, 0, 0, 0, 0, 0, 0,\n",
       "       1, 0, 0, 0, 0, 0, 1, 0, 0, 1, 0, 0, 1, 1, 1, 1, 0, 0, 1, 1, 0, 0,\n",
       "       1, 0, 1, 1, 0, 0, 1, 0, 1, 1, 0, 0, 0, 1, 0, 0, 0, 0, 0, 0, 1, 1,\n",
       "       0, 1, 0, 0, 0, 0, 0, 0, 0, 1, 1, 0, 1, 0, 0, 0, 0, 0, 1, 0, 0, 1,\n",
       "       0, 0, 1, 0, 0, 0, 0, 1, 0, 1, 0, 0, 0, 0, 1, 0, 0, 0, 0, 0, 0, 1,\n",
       "       1, 0, 0, 1, 0, 1, 1, 0, 1, 0, 0, 0, 0, 1, 0, 0, 0, 1, 1, 0, 0, 0,\n",
       "       0, 0, 1, 0, 0, 0, 0, 0, 0, 0, 1, 0, 0, 0, 0, 1, 1, 1, 0, 0, 0, 0,\n",
       "       0, 1, 1, 1, 1, 1, 1, 1, 1, 0, 0, 1, 0, 0, 0, 0, 1, 1, 1, 1, 1, 1,\n",
       "       1, 0, 0], dtype=int64)"
      ]
     },
     "execution_count": 89,
     "metadata": {},
     "output_type": "execute_result"
    }
   ],
   "source": [
    "#iteration_6\n",
    "it_data13=cluster_a12.iloc[:,:-2]\n",
    "it_data13.drop(['index'],axis=1,inplace=True)\n",
    "it_data13.reset_index(inplace=True)\n",
    "\n",
    "#iteration_4\n",
    "it_scaled13=scp.fit_transform(it_data13)\n",
    "cluster13= AgglomerativeClustering(n_clusters=2, affinity='euclidean', linkage='ward')  \n",
    "cluster13.fit_predict(it_scaled13)"
   ]
  },
  {
   "cell_type": "code",
   "execution_count": 90,
   "metadata": {},
   "outputs": [],
   "source": [
    "#iteration_4_clustering\n",
    "it_result14=cluster_a12.iloc[:,:-1]\n",
    "it_result14.drop(['index'],axis=1,inplace=True)\n",
    "it_result14.reset_index(inplace=True)\n",
    "it_result14['cluster'] = pd.Series(cluster13.labels_).apply(lambda x:'A' if (x==0) else 'B')"
   ]
  },
  {
   "cell_type": "code",
   "execution_count": 91,
   "metadata": {},
   "outputs": [],
   "source": [
    "cluster_a13=it_result14.query('cluster==\"A\"')\n",
    "cluster_b13=it_result14.query('cluster==\"B\"')"
   ]
  },
  {
   "cell_type": "code",
   "execution_count": 92,
   "metadata": {},
   "outputs": [
    {
     "data": {
      "text/plain": [
       "{0: 433}"
      ]
     },
     "execution_count": 92,
     "metadata": {},
     "output_type": "execute_result"
    }
   ],
   "source": [
    "#iteration_4_cluster_candidate_A\n",
    "y2=cluster_a13[['V37']]\n",
    "unique, counts = np.unique(y2, return_counts=True)\n",
    "dict_X = dict(zip(unique, counts))\n",
    "dict_X"
   ]
  },
  {
   "cell_type": "code",
   "execution_count": 93,
   "metadata": {},
   "outputs": [
    {
     "data": {
      "text/plain": [
       "{0: 248, 1: 4}"
      ]
     },
     "execution_count": 93,
     "metadata": {},
     "output_type": "execute_result"
    }
   ],
   "source": [
    "#iteration_4_cluster_candidate_A\n",
    "y2=cluster_b13[['V37']]\n",
    "unique, counts = np.unique(y2, return_counts=True)\n",
    "dict_X = dict(zip(unique, counts))\n",
    "dict_X"
   ]
  },
  {
   "cell_type": "code",
   "execution_count": 94,
   "metadata": {},
   "outputs": [
    {
     "data": {
      "text/plain": [
       "array([0, 0, 0, 0, 0, 0, 1, 0, 0, 0, 0, 0, 0, 0, 0, 0, 0, 0, 0, 0, 0, 0,\n",
       "       0, 0, 0, 0, 0, 0, 0, 0, 0, 0, 0, 0, 0, 0, 0, 0, 0, 0, 0, 0, 0, 0,\n",
       "       0, 0, 0, 0, 0, 0, 0, 0, 0, 0, 0, 0, 0, 0, 0, 0, 0, 0, 0, 0, 0, 0,\n",
       "       1, 0, 0, 0, 0, 0, 0, 0, 0, 0, 1, 1, 1, 1, 0, 0, 0, 0, 0, 1, 0, 0,\n",
       "       0, 0, 0, 0, 0, 0, 0, 0, 0, 0, 0, 0, 0, 0, 0, 0, 0, 0, 0, 0, 0, 0,\n",
       "       0, 1, 0, 0, 1, 1, 1, 0, 0, 0, 1, 1, 1, 0, 0, 1, 1, 0, 0, 1, 1, 1,\n",
       "       1, 1, 0, 1, 0, 0, 1, 1, 1, 0, 0, 1, 1, 1, 0, 1, 1, 1, 1, 1, 1, 0,\n",
       "       0, 0, 1, 0, 1, 1, 0, 1, 1, 1, 0, 0, 0, 0, 0, 0, 0, 0, 1, 0, 0, 0,\n",
       "       0, 1, 1, 0, 0, 0, 0, 0, 0, 0, 0, 0, 0, 0, 0, 0, 1, 0, 0, 0, 0, 0,\n",
       "       0, 0, 0, 1, 0, 0, 0, 0, 0, 0, 0, 0, 1, 1, 0, 0, 0, 0, 0, 0, 0, 0,\n",
       "       0, 0, 0, 0, 0, 0, 0, 0, 0, 0, 0, 0, 0, 0, 0, 0, 1, 1, 1, 1, 0, 1,\n",
       "       1, 0, 0, 1, 1, 1, 0, 0, 0, 0], dtype=int64)"
      ]
     },
     "execution_count": 94,
     "metadata": {},
     "output_type": "execute_result"
    }
   ],
   "source": [
    "#iteration_6\n",
    "it_data14=cluster_b13.iloc[:,:-2]\n",
    "it_data14.drop(['index'],axis=1,inplace=True)\n",
    "it_data14.reset_index(inplace=True)\n",
    "\n",
    "#iteration_4\n",
    "it_scaled14=scp.fit_transform(it_data14)\n",
    "cluster14= AgglomerativeClustering(n_clusters=2, affinity='euclidean', linkage='ward')  \n",
    "cluster14.fit_predict(it_scaled14)"
   ]
  },
  {
   "cell_type": "code",
   "execution_count": 95,
   "metadata": {},
   "outputs": [],
   "source": [
    "#iteration_4_clustering\n",
    "it_result15=cluster_b13.iloc[:,:-1]\n",
    "it_result15.drop(['index'],axis=1,inplace=True)\n",
    "it_result15.reset_index(inplace=True)\n",
    "it_result15['cluster'] = pd.Series(cluster14.labels_).apply(lambda x:'A' if (x==0) else 'B')"
   ]
  },
  {
   "cell_type": "code",
   "execution_count": 96,
   "metadata": {},
   "outputs": [],
   "source": [
    "cluster_a14=it_result15.query('cluster==\"A\"')\n",
    "cluster_b14=it_result15.query('cluster==\"B\"')"
   ]
  },
  {
   "cell_type": "code",
   "execution_count": 97,
   "metadata": {},
   "outputs": [
    {
     "data": {
      "text/plain": [
       "{0: 192, 1: 4}"
      ]
     },
     "execution_count": 97,
     "metadata": {},
     "output_type": "execute_result"
    }
   ],
   "source": [
    "#iteration_4_cluster_candidate_A\n",
    "y2=cluster_a14[['V37']]\n",
    "unique, counts = np.unique(y2, return_counts=True)\n",
    "dict_X = dict(zip(unique, counts))\n",
    "dict_X"
   ]
  },
  {
   "cell_type": "code",
   "execution_count": 98,
   "metadata": {},
   "outputs": [
    {
     "data": {
      "text/plain": [
       "{0: 56}"
      ]
     },
     "execution_count": 98,
     "metadata": {},
     "output_type": "execute_result"
    }
   ],
   "source": [
    "#iteration_4_cluster_candidate_A\n",
    "y2=cluster_b14[['V37']]\n",
    "unique, counts = np.unique(y2, return_counts=True)\n",
    "dict_X = dict(zip(unique, counts))\n",
    "dict_X"
   ]
  },
  {
   "cell_type": "code",
   "execution_count": 99,
   "metadata": {},
   "outputs": [
    {
     "data": {
      "text/plain": [
       "array([1, 1, 1, 1, 0, 0, 1, 0, 0, 0, 0, 0, 0, 0, 0, 0, 1, 1, 1, 1, 0, 1,\n",
       "       1, 0, 0, 1, 0, 0, 0, 0, 0, 0, 0, 0, 0, 0, 0, 0, 0, 0, 0, 0, 0, 0,\n",
       "       0, 0, 0, 0, 0, 0, 0, 0, 0, 0, 0, 0, 0, 0, 0, 0, 0, 0, 0, 0, 0, 0,\n",
       "       0, 0, 0, 0, 0, 0, 0, 0, 0, 0, 0, 0, 0, 0, 0, 0, 0, 0, 0, 0, 0, 0,\n",
       "       0, 0, 0, 0, 0, 0, 0, 0, 0, 0, 0, 0, 0, 0, 0, 0, 0, 0, 0, 0, 0, 0,\n",
       "       0, 0, 0, 0, 0, 0, 0, 0, 0, 0, 0, 0, 0, 0, 0, 0, 0, 0, 0, 0, 0, 0,\n",
       "       0, 0, 1, 0, 0, 1, 1, 0, 0, 1, 0, 1, 0, 0, 0, 0, 0, 0, 0, 0, 0, 0,\n",
       "       0, 0, 0, 0, 0, 0, 0, 0, 0, 0, 0, 0, 0, 0, 0, 0, 0, 0, 0, 0, 0, 0,\n",
       "       0, 0, 0, 0, 0, 0, 0, 0, 0, 0, 0, 0, 0, 0, 0, 0, 0, 0, 0, 0],\n",
       "      dtype=int64)"
      ]
     },
     "execution_count": 99,
     "metadata": {},
     "output_type": "execute_result"
    }
   ],
   "source": [
    "#iteration_6\n",
    "it_data15=cluster_a14.iloc[:,:-2]\n",
    "it_data15.drop(['index'],axis=1,inplace=True)\n",
    "it_data15.reset_index(inplace=True)\n",
    "\n",
    "#iteration_4\n",
    "it_scaled15=scp.fit_transform(it_data15)\n",
    "cluster15= AgglomerativeClustering(n_clusters=2, affinity='euclidean', linkage='ward')  \n",
    "cluster15.fit_predict(it_scaled15)"
   ]
  },
  {
   "cell_type": "code",
   "execution_count": 100,
   "metadata": {},
   "outputs": [],
   "source": [
    "#iteration_4_clustering\n",
    "it_result16=cluster_a14.iloc[:,:-1]\n",
    "it_result16.drop(['index'],axis=1,inplace=True)\n",
    "it_result16.reset_index(inplace=True)\n",
    "it_result16['cluster'] = pd.Series(cluster15.labels_).apply(lambda x:'A' if (x==0) else 'B')"
   ]
  },
  {
   "cell_type": "code",
   "execution_count": 101,
   "metadata": {},
   "outputs": [],
   "source": [
    "cluster_a15=it_result16.query('cluster==\"A\"')\n",
    "cluster_b15=it_result16.query('cluster==\"B\"')"
   ]
  },
  {
   "cell_type": "code",
   "execution_count": 102,
   "metadata": {},
   "outputs": [
    {
     "data": {
      "text/plain": [
       "{0: 179}"
      ]
     },
     "execution_count": 102,
     "metadata": {},
     "output_type": "execute_result"
    }
   ],
   "source": [
    "#iteration_4_cluster_candidate_A\n",
    "y2=cluster_a15[['V37']]\n",
    "unique, counts = np.unique(y2, return_counts=True)\n",
    "dict_X = dict(zip(unique, counts))\n",
    "dict_X"
   ]
  },
  {
   "cell_type": "code",
   "execution_count": 103,
   "metadata": {},
   "outputs": [
    {
     "data": {
      "text/plain": [
       "{0: 13, 1: 4}"
      ]
     },
     "execution_count": 103,
     "metadata": {},
     "output_type": "execute_result"
    }
   ],
   "source": [
    "#iteration_4_cluster_candidate_A\n",
    "y2=cluster_b15[['V37']]\n",
    "unique, counts = np.unique(y2, return_counts=True)\n",
    "dict_X = dict(zip(unique, counts))\n",
    "dict_X"
   ]
  },
  {
   "cell_type": "code",
   "execution_count": 104,
   "metadata": {},
   "outputs": [
    {
     "data": {
      "text/plain": [
       "array([1, 0, 0, 0, 1, 0, 0, 0, 0, 0, 0, 0, 1, 1, 1, 1, 0], dtype=int64)"
      ]
     },
     "execution_count": 104,
     "metadata": {},
     "output_type": "execute_result"
    }
   ],
   "source": [
    "#iteration_6\n",
    "it_data16=cluster_b15.iloc[:,:-2]\n",
    "it_data16.drop(['index'],axis=1,inplace=True)\n",
    "it_data16.reset_index(inplace=True)\n",
    "\n",
    "#iteration_4\n",
    "it_scaled16=scp.fit_transform(it_data16)\n",
    "cluster16= AgglomerativeClustering(n_clusters=2, affinity='euclidean', linkage='ward')  \n",
    "cluster16.fit_predict(it_scaled16)"
   ]
  },
  {
   "cell_type": "code",
   "execution_count": 105,
   "metadata": {},
   "outputs": [],
   "source": [
    "#iteration_4_clustering\n",
    "it_result17=cluster_b15.iloc[:,:-1]\n",
    "it_result17.drop(['index'],axis=1,inplace=True)\n",
    "it_result17.reset_index(inplace=True)\n",
    "it_result17['cluster'] = pd.Series(cluster16.labels_).apply(lambda x:'A' if (x==0) else 'B')"
   ]
  },
  {
   "cell_type": "code",
   "execution_count": 106,
   "metadata": {},
   "outputs": [],
   "source": [
    "cluster_a16=it_result17.query('cluster==\"A\"')\n",
    "cluster_b16=it_result17.query('cluster==\"B\"')"
   ]
  },
  {
   "cell_type": "code",
   "execution_count": 107,
   "metadata": {},
   "outputs": [
    {
     "data": {
      "text/plain": [
       "{0: 8, 1: 3}"
      ]
     },
     "execution_count": 107,
     "metadata": {},
     "output_type": "execute_result"
    }
   ],
   "source": [
    "#iteration_4_cluster_candidate_A\n",
    "y2=cluster_a16[['V37']]\n",
    "unique, counts = np.unique(y2, return_counts=True)\n",
    "dict_X = dict(zip(unique, counts))\n",
    "dict_X"
   ]
  },
  {
   "cell_type": "code",
   "execution_count": 108,
   "metadata": {},
   "outputs": [
    {
     "data": {
      "text/plain": [
       "{0: 5, 1: 1}"
      ]
     },
     "execution_count": 108,
     "metadata": {},
     "output_type": "execute_result"
    }
   ],
   "source": [
    "#iteration_4_cluster_candidate_A\n",
    "y2=cluster_b16[['V37']]\n",
    "unique, counts = np.unique(y2, return_counts=True)\n",
    "dict_X = dict(zip(unique, counts))\n",
    "dict_X"
   ]
  },
  {
   "cell_type": "code",
   "execution_count": 109,
   "metadata": {},
   "outputs": [
    {
     "data": {
      "text/plain": [
       "array([1, 1, 0, 0, 1, 0, 0, 0, 0, 0, 1], dtype=int64)"
      ]
     },
     "execution_count": 109,
     "metadata": {},
     "output_type": "execute_result"
    }
   ],
   "source": [
    "#iteration_6\n",
    "it_data17=cluster_a16.iloc[:,:-2]\n",
    "it_data17.drop(['index'],axis=1,inplace=True)\n",
    "it_data17.reset_index(inplace=True)\n",
    "\n",
    "#iteration_4\n",
    "it_scaled17=scp.fit_transform(it_data17)\n",
    "cluster17= AgglomerativeClustering(n_clusters=2, affinity='euclidean', linkage='ward')  \n",
    "cluster17.fit_predict(it_scaled17)"
   ]
  },
  {
   "cell_type": "code",
   "execution_count": 110,
   "metadata": {},
   "outputs": [],
   "source": [
    "#iteration_4_clustering\n",
    "it_result18=cluster_a16.iloc[:,:-1]\n",
    "it_result18.drop(['index'],axis=1,inplace=True)\n",
    "it_result18.reset_index(inplace=True)\n",
    "it_result18['cluster'] = pd.Series(cluster17.labels_).apply(lambda x:'A' if (x==0) else 'B')"
   ]
  },
  {
   "cell_type": "code",
   "execution_count": 111,
   "metadata": {},
   "outputs": [],
   "source": [
    "cluster_a17=it_result18.query('cluster==\"A\"')\n",
    "cluster_b17=it_result18.query('cluster==\"B\"')"
   ]
  },
  {
   "cell_type": "code",
   "execution_count": 112,
   "metadata": {},
   "outputs": [
    {
     "data": {
      "text/plain": [
       "{0: 6, 1: 1}"
      ]
     },
     "execution_count": 112,
     "metadata": {},
     "output_type": "execute_result"
    }
   ],
   "source": [
    "#iteration_4_cluster_candidate_A\n",
    "y2=cluster_a17[['V37']]\n",
    "unique, counts = np.unique(y2, return_counts=True)\n",
    "dict_X = dict(zip(unique, counts))\n",
    "dict_X"
   ]
  },
  {
   "cell_type": "code",
   "execution_count": 113,
   "metadata": {},
   "outputs": [
    {
     "data": {
      "text/plain": [
       "{0: 2, 1: 2}"
      ]
     },
     "execution_count": 113,
     "metadata": {},
     "output_type": "execute_result"
    }
   ],
   "source": [
    "#iteration_4_cluster_candidate_A\n",
    "y2=cluster_b17[['V37']]\n",
    "unique, counts = np.unique(y2, return_counts=True)\n",
    "dict_X = dict(zip(unique, counts))\n",
    "dict_X"
   ]
  },
  {
   "cell_type": "code",
   "execution_count": 114,
   "metadata": {},
   "outputs": [
    {
     "data": {
      "text/plain": [
       "array([0, 0, 0, 0, 0, 0, 1], dtype=int64)"
      ]
     },
     "execution_count": 114,
     "metadata": {},
     "output_type": "execute_result"
    }
   ],
   "source": [
    "#iteration_6\n",
    "it_data18=cluster_a17.iloc[:,:-2]\n",
    "it_data18.drop(['index'],axis=1,inplace=True)\n",
    "it_data18.reset_index(inplace=True)\n",
    "\n",
    "#iteration_4\n",
    "it_scaled18=scp.fit_transform(it_data18)\n",
    "cluster18= AgglomerativeClustering(n_clusters=2, affinity='euclidean', linkage='ward')  \n",
    "cluster18.fit_predict(it_scaled18)"
   ]
  },
  {
   "cell_type": "code",
   "execution_count": 115,
   "metadata": {},
   "outputs": [],
   "source": [
    "#iteration_4_clustering\n",
    "it_result19=cluster_a17.iloc[:,:-1]\n",
    "it_result19.drop(['index'],axis=1,inplace=True)\n",
    "it_result19.reset_index(inplace=True)\n",
    "it_result19['cluster'] = pd.Series(cluster18.labels_).apply(lambda x:'A' if (x==0) else 'B')"
   ]
  },
  {
   "cell_type": "code",
   "execution_count": 116,
   "metadata": {},
   "outputs": [],
   "source": [
    "cluster_a18=it_result19.query('cluster==\"A\"')\n",
    "cluster_b18=it_result19.query('cluster==\"B\"')"
   ]
  },
  {
   "cell_type": "code",
   "execution_count": 117,
   "metadata": {},
   "outputs": [
    {
     "data": {
      "text/plain": [
       "{0: 1}"
      ]
     },
     "execution_count": 117,
     "metadata": {},
     "output_type": "execute_result"
    }
   ],
   "source": [
    "#iteration_4_cluster_candidate_A\n",
    "y2=cluster_b18[['V37']]\n",
    "unique, counts = np.unique(y2, return_counts=True)\n",
    "dict_X = dict(zip(unique, counts))\n",
    "dict_X"
   ]
  },
  {
   "cell_type": "code",
   "execution_count": 118,
   "metadata": {},
   "outputs": [
    {
     "data": {
      "text/plain": [
       "{0: 5, 1: 1}"
      ]
     },
     "execution_count": 118,
     "metadata": {},
     "output_type": "execute_result"
    }
   ],
   "source": [
    "#iteration_4_cluster_candidate_A\n",
    "y2=cluster_a18[['V37']]\n",
    "unique, counts = np.unique(y2, return_counts=True)\n",
    "dict_X = dict(zip(unique, counts))\n",
    "dict_X"
   ]
  },
  {
   "cell_type": "code",
   "execution_count": 119,
   "metadata": {},
   "outputs": [
    {
     "data": {
      "text/plain": [
       "array([0, 1, 1, 0, 1, 0], dtype=int64)"
      ]
     },
     "execution_count": 119,
     "metadata": {},
     "output_type": "execute_result"
    }
   ],
   "source": [
    "#iteration_6\n",
    "it_data19=cluster_a18.iloc[:,:-2]\n",
    "it_data19.drop(['index'],axis=1,inplace=True)\n",
    "it_data19.reset_index(inplace=True)\n",
    "\n",
    "#iteration_4\n",
    "it_scaled19=scp.fit_transform(it_data19)\n",
    "cluster19= AgglomerativeClustering(n_clusters=2, affinity='euclidean', linkage='ward')  \n",
    "cluster19.fit_predict(it_scaled19)"
   ]
  },
  {
   "cell_type": "code",
   "execution_count": 120,
   "metadata": {},
   "outputs": [],
   "source": [
    "#iteration_4_clustering\n",
    "it_result20=cluster_a18.iloc[:,:-1]\n",
    "it_result20.drop(['index'],axis=1,inplace=True)\n",
    "it_result20.reset_index(inplace=True)\n",
    "it_result20['cluster'] = pd.Series(cluster19.labels_).apply(lambda x:'A' if (x==0) else 'B')"
   ]
  },
  {
   "cell_type": "code",
   "execution_count": 121,
   "metadata": {},
   "outputs": [],
   "source": [
    "cluster_a19=it_result20.query('cluster==\"A\"')\n",
    "cluster_b19=it_result20.query('cluster==\"B\"')"
   ]
  },
  {
   "cell_type": "code",
   "execution_count": 122,
   "metadata": {},
   "outputs": [
    {
     "data": {
      "text/plain": [
       "{0: 2, 1: 1}"
      ]
     },
     "execution_count": 122,
     "metadata": {},
     "output_type": "execute_result"
    }
   ],
   "source": [
    "#iteration_4_cluster_candidate_A\n",
    "y2=cluster_a19[['V37']]\n",
    "unique, counts = np.unique(y2, return_counts=True)\n",
    "dict_X = dict(zip(unique, counts))\n",
    "dict_X"
   ]
  },
  {
   "cell_type": "code",
   "execution_count": 123,
   "metadata": {},
   "outputs": [
    {
     "data": {
      "text/plain": [
       "{0: 3}"
      ]
     },
     "execution_count": 123,
     "metadata": {},
     "output_type": "execute_result"
    }
   ],
   "source": [
    "#iteration_4_cluster_candidate_A\n",
    "y2=cluster_b19[['V37']]\n",
    "unique, counts = np.unique(y2, return_counts=True)\n",
    "dict_X = dict(zip(unique, counts))\n",
    "dict_X"
   ]
  },
  {
   "cell_type": "code",
   "execution_count": 124,
   "metadata": {},
   "outputs": [
    {
     "data": {
      "text/plain": [
       "array([1, 0, 0], dtype=int64)"
      ]
     },
     "execution_count": 124,
     "metadata": {},
     "output_type": "execute_result"
    }
   ],
   "source": [
    "#iteration_6\n",
    "it_data20=cluster_a19.iloc[:,:-2]\n",
    "it_data20.drop(['index'],axis=1,inplace=True)\n",
    "it_data20.reset_index(inplace=True)\n",
    "\n",
    "#iteration_4\n",
    "it_scaled20=scp.fit_transform(it_data20)\n",
    "cluster20= AgglomerativeClustering(n_clusters=2, affinity='euclidean', linkage='ward')  \n",
    "cluster20.fit_predict(it_scaled20)"
   ]
  },
  {
   "cell_type": "code",
   "execution_count": 125,
   "metadata": {},
   "outputs": [],
   "source": [
    "#iteration_4_clustering\n",
    "it_result21=cluster_a19.iloc[:,:-1]\n",
    "it_result21.drop(['index'],axis=1,inplace=True)\n",
    "it_result21.reset_index(inplace=True)\n",
    "it_result21['cluster'] = pd.Series(cluster20.labels_).apply(lambda x:'A' if (x==0) else 'B')"
   ]
  },
  {
   "cell_type": "code",
   "execution_count": 126,
   "metadata": {},
   "outputs": [],
   "source": [
    "cluster_a20=it_result21.query('cluster==\"A\"')\n",
    "cluster_b20=it_result21.query('cluster==\"B\"')"
   ]
  },
  {
   "cell_type": "code",
   "execution_count": 127,
   "metadata": {},
   "outputs": [
    {
     "data": {
      "text/plain": [
       "{1: 1}"
      ]
     },
     "execution_count": 127,
     "metadata": {},
     "output_type": "execute_result"
    }
   ],
   "source": [
    "#iteration_4_cluster_candidate_A\n",
    "y2=cluster_b20[['V37']]\n",
    "unique, counts = np.unique(y2, return_counts=True)\n",
    "dict_X = dict(zip(unique, counts))\n",
    "dict_X"
   ]
  },
  {
   "cell_type": "code",
   "execution_count": 128,
   "metadata": {},
   "outputs": [
    {
     "data": {
      "text/plain": [
       "{0: 2}"
      ]
     },
     "execution_count": 128,
     "metadata": {},
     "output_type": "execute_result"
    }
   ],
   "source": [
    "#iteration_4_cluster_candidate_A\n",
    "y2=cluster_a20[['V37']]\n",
    "unique, counts = np.unique(y2, return_counts=True)\n",
    "dict_X = dict(zip(unique, counts))\n",
    "dict_X"
   ]
  },
  {
   "cell_type": "code",
   "execution_count": 129,
   "metadata": {},
   "outputs": [
    {
     "data": {
      "text/plain": [
       "array([1, 0, 0, 0], dtype=int64)"
      ]
     },
     "execution_count": 129,
     "metadata": {},
     "output_type": "execute_result"
    }
   ],
   "source": [
    "#iteration_6\n",
    "it_data21=cluster_b17.iloc[:,:-2]\n",
    "it_data21.drop(['index'],axis=1,inplace=True)\n",
    "it_data21.reset_index(inplace=True)\n",
    "\n",
    "#iteration_4\n",
    "it_scaled21=scp.fit_transform(it_data21)\n",
    "cluster21= AgglomerativeClustering(n_clusters=2, affinity='euclidean', linkage='ward')  \n",
    "cluster21.fit_predict(it_scaled21)"
   ]
  },
  {
   "cell_type": "code",
   "execution_count": 130,
   "metadata": {},
   "outputs": [],
   "source": [
    "#iteration_4_clustering\n",
    "it_result22=cluster_b17.iloc[:,:-1]\n",
    "it_result22.drop(['index'],axis=1,inplace=True)\n",
    "it_result22.reset_index(inplace=True)\n",
    "it_result22['cluster'] = pd.Series(cluster21.labels_).apply(lambda x:'A' if (x==0) else 'B')"
   ]
  },
  {
   "cell_type": "code",
   "execution_count": 131,
   "metadata": {},
   "outputs": [],
   "source": [
    "cluster_a21=it_result22.query('cluster==\"A\"')\n",
    "cluster_b21=it_result22.query('cluster==\"B\"')"
   ]
  },
  {
   "cell_type": "code",
   "execution_count": 132,
   "metadata": {},
   "outputs": [
    {
     "data": {
      "text/plain": [
       "{1: 1}"
      ]
     },
     "execution_count": 132,
     "metadata": {},
     "output_type": "execute_result"
    }
   ],
   "source": [
    "#iteration_4_cluster_candidate_A\n",
    "y2=cluster_b21[['V37']]\n",
    "unique, counts = np.unique(y2, return_counts=True)\n",
    "dict_X = dict(zip(unique, counts))\n",
    "dict_X"
   ]
  },
  {
   "cell_type": "code",
   "execution_count": 133,
   "metadata": {},
   "outputs": [
    {
     "data": {
      "text/plain": [
       "{0: 2, 1: 1}"
      ]
     },
     "execution_count": 133,
     "metadata": {},
     "output_type": "execute_result"
    }
   ],
   "source": [
    "#iteration_4_cluster_candidate_A\n",
    "y2=cluster_a21[['V37']]\n",
    "unique, counts = np.unique(y2, return_counts=True)\n",
    "dict_X = dict(zip(unique, counts))\n",
    "dict_X"
   ]
  },
  {
   "cell_type": "code",
   "execution_count": 134,
   "metadata": {},
   "outputs": [
    {
     "data": {
      "text/plain": [
       "array([0, 1, 0], dtype=int64)"
      ]
     },
     "execution_count": 134,
     "metadata": {},
     "output_type": "execute_result"
    }
   ],
   "source": [
    "#iteration_6\n",
    "it_data22=cluster_a21.iloc[:,:-2]\n",
    "it_data22.drop(['index'],axis=1,inplace=True)\n",
    "it_data22.reset_index(inplace=True)\n",
    "\n",
    "#iteration_4\n",
    "it_scaled22=scp.fit_transform(it_data22)\n",
    "cluster22= AgglomerativeClustering(n_clusters=2, affinity='euclidean', linkage='ward')  \n",
    "cluster22.fit_predict(it_scaled22)"
   ]
  },
  {
   "cell_type": "code",
   "execution_count": 135,
   "metadata": {},
   "outputs": [],
   "source": [
    "#iteration_4_clustering\n",
    "it_result23=cluster_a21.iloc[:,:-1]\n",
    "it_result23.drop(['index'],axis=1,inplace=True)\n",
    "it_result23.reset_index(inplace=True)\n",
    "it_result23['cluster'] = pd.Series(cluster22.labels_).apply(lambda x:'A' if (x==0) else 'B')"
   ]
  },
  {
   "cell_type": "code",
   "execution_count": 136,
   "metadata": {},
   "outputs": [],
   "source": [
    "cluster_a22=it_result23.query('cluster==\"A\"')\n",
    "cluster_b22=it_result23.query('cluster==\"B\"')"
   ]
  },
  {
   "cell_type": "code",
   "execution_count": 137,
   "metadata": {},
   "outputs": [
    {
     "data": {
      "text/plain": [
       "{0: 1}"
      ]
     },
     "execution_count": 137,
     "metadata": {},
     "output_type": "execute_result"
    }
   ],
   "source": [
    "#iteration_4_cluster_candidate_A\n",
    "y2=cluster_b22[['V37']]\n",
    "unique, counts = np.unique(y2, return_counts=True)\n",
    "dict_X = dict(zip(unique, counts))\n",
    "dict_X"
   ]
  },
  {
   "cell_type": "code",
   "execution_count": 138,
   "metadata": {},
   "outputs": [
    {
     "data": {
      "text/plain": [
       "{0: 1, 1: 1}"
      ]
     },
     "execution_count": 138,
     "metadata": {},
     "output_type": "execute_result"
    }
   ],
   "source": [
    "#iteration_4_cluster_candidate_A\n",
    "y2=cluster_a22[['V37']]\n",
    "unique, counts = np.unique(y2, return_counts=True)\n",
    "dict_X = dict(zip(unique, counts))\n",
    "dict_X"
   ]
  },
  {
   "cell_type": "code",
   "execution_count": 139,
   "metadata": {},
   "outputs": [
    {
     "data": {
      "text/plain": [
       "array([1, 0], dtype=int64)"
      ]
     },
     "execution_count": 139,
     "metadata": {},
     "output_type": "execute_result"
    }
   ],
   "source": [
    "#iteration_6\n",
    "it_data23=cluster_a22.iloc[:,:-2]\n",
    "it_data23.drop(['index'],axis=1,inplace=True)\n",
    "it_data23.reset_index(inplace=True)\n",
    "\n",
    "#iteration_4\n",
    "it_scaled23=scp.fit_transform(it_data23)\n",
    "cluster23= AgglomerativeClustering(n_clusters=2, affinity='euclidean', linkage='ward')  \n",
    "cluster23.fit_predict(it_scaled23)"
   ]
  },
  {
   "cell_type": "code",
   "execution_count": 140,
   "metadata": {},
   "outputs": [],
   "source": [
    "#iteration_4_clustering\n",
    "it_result24=cluster_a22.iloc[:,:-1]\n",
    "it_result24.drop(['index'],axis=1,inplace=True)\n",
    "it_result24.reset_index(inplace=True)\n",
    "it_result24['cluster'] = pd.Series(cluster23.labels_).apply(lambda x:'A' if (x==0) else 'B')\n",
    "\n",
    "cluster_a23=it_result24.query('cluster==\"A\"')\n",
    "cluster_b23=it_result24.query('cluster==\"B\"')"
   ]
  },
  {
   "cell_type": "code",
   "execution_count": 141,
   "metadata": {},
   "outputs": [
    {
     "data": {
      "text/plain": [
       "{0: 1}"
      ]
     },
     "execution_count": 141,
     "metadata": {},
     "output_type": "execute_result"
    }
   ],
   "source": [
    "#iteration_4_cluster_candidate_A\n",
    "y2=cluster_a23[['V37']]\n",
    "unique, counts = np.unique(y2, return_counts=True)\n",
    "dict_X = dict(zip(unique, counts))\n",
    "dict_X"
   ]
  },
  {
   "cell_type": "code",
   "execution_count": 142,
   "metadata": {},
   "outputs": [
    {
     "data": {
      "text/plain": [
       "{1: 1}"
      ]
     },
     "execution_count": 142,
     "metadata": {},
     "output_type": "execute_result"
    }
   ],
   "source": [
    "#iteration_4_cluster_candidate_A\n",
    "y2=cluster_b23[['V37']]\n",
    "unique, counts = np.unique(y2, return_counts=True)\n",
    "dict_X = dict(zip(unique, counts))\n",
    "dict_X"
   ]
  },
  {
   "cell_type": "code",
   "execution_count": 143,
   "metadata": {},
   "outputs": [
    {
     "data": {
      "text/plain": [
       "array([1, 0, 1, 0, 0, 0], dtype=int64)"
      ]
     },
     "execution_count": 143,
     "metadata": {},
     "output_type": "execute_result"
    }
   ],
   "source": [
    "#iteration_6\n",
    "it_data24=cluster_b16.iloc[:,:-2]\n",
    "it_data24.drop(['index'],axis=1,inplace=True)\n",
    "it_data24.reset_index(inplace=True)\n",
    "\n",
    "#iteration_4\n",
    "it_scaled24=scp.fit_transform(it_data24)\n",
    "cluster24= AgglomerativeClustering(n_clusters=2, affinity='euclidean', linkage='ward')  \n",
    "cluster24.fit_predict(it_scaled24)"
   ]
  },
  {
   "cell_type": "code",
   "execution_count": 144,
   "metadata": {},
   "outputs": [],
   "source": [
    "#iteration_4_clustering\n",
    "it_result25=cluster_b16.iloc[:,:-1]\n",
    "it_result25.drop(['index'],axis=1,inplace=True)\n",
    "it_result25.reset_index(inplace=True)\n",
    "it_result25['cluster'] = pd.Series(cluster24.labels_).apply(lambda x:'A' if (x==0) else 'B')\n",
    "\n",
    "cluster_a24=it_result25.query('cluster==\"A\"')\n",
    "cluster_b24=it_result25.query('cluster==\"B\"')"
   ]
  },
  {
   "cell_type": "code",
   "execution_count": 145,
   "metadata": {},
   "outputs": [
    {
     "data": {
      "text/plain": [
       "{0: 4}"
      ]
     },
     "execution_count": 145,
     "metadata": {},
     "output_type": "execute_result"
    }
   ],
   "source": [
    "#iteration_4_cluster_candidate_A\n",
    "y2=cluster_a24[['V37']]\n",
    "unique, counts = np.unique(y2, return_counts=True)\n",
    "dict_X = dict(zip(unique, counts))\n",
    "dict_X"
   ]
  },
  {
   "cell_type": "code",
   "execution_count": 146,
   "metadata": {},
   "outputs": [
    {
     "data": {
      "text/plain": [
       "{0: 1, 1: 1}"
      ]
     },
     "execution_count": 146,
     "metadata": {},
     "output_type": "execute_result"
    }
   ],
   "source": [
    "#iteration_4_cluster_candidate_A\n",
    "y2=cluster_b24[['V37']]\n",
    "unique, counts = np.unique(y2, return_counts=True)\n",
    "dict_X = dict(zip(unique, counts))\n",
    "dict_X"
   ]
  },
  {
   "cell_type": "code",
   "execution_count": 147,
   "metadata": {},
   "outputs": [
    {
     "data": {
      "text/plain": [
       "array([1, 0], dtype=int64)"
      ]
     },
     "execution_count": 147,
     "metadata": {},
     "output_type": "execute_result"
    }
   ],
   "source": [
    "#iteration_6\n",
    "it_data25=cluster_b24.iloc[:,:-2]\n",
    "it_data25.drop(['index'],axis=1,inplace=True)\n",
    "it_data25.reset_index(inplace=True)\n",
    "\n",
    "#iteration_4\n",
    "it_scaled25=scp.fit_transform(it_data25)\n",
    "cluster25= AgglomerativeClustering(n_clusters=2, affinity='euclidean', linkage='ward')  \n",
    "cluster25.fit_predict(it_scaled25)"
   ]
  },
  {
   "cell_type": "code",
   "execution_count": 148,
   "metadata": {},
   "outputs": [],
   "source": [
    "#iteration_4_clustering\n",
    "it_result26=cluster_b24.iloc[:,:-1]\n",
    "it_result26.drop(['index'],axis=1,inplace=True)\n",
    "it_result26.reset_index(inplace=True)\n",
    "it_result26['cluster'] = pd.Series(cluster25.labels_).apply(lambda x:'A' if (x==0) else 'B')\n",
    "\n",
    "cluster_a25=it_result26.query('cluster==\"A\"')\n",
    "cluster_b25=it_result26.query('cluster==\"B\"')"
   ]
  },
  {
   "cell_type": "code",
   "execution_count": 149,
   "metadata": {},
   "outputs": [
    {
     "data": {
      "text/plain": [
       "{1: 1}"
      ]
     },
     "execution_count": 149,
     "metadata": {},
     "output_type": "execute_result"
    }
   ],
   "source": [
    "#iteration_4_cluster_candidate_A\n",
    "y2=cluster_b25[['V37']]\n",
    "unique, counts = np.unique(y2, return_counts=True)\n",
    "dict_X = dict(zip(unique, counts))\n",
    "dict_X"
   ]
  },
  {
   "cell_type": "code",
   "execution_count": 150,
   "metadata": {},
   "outputs": [
    {
     "data": {
      "text/plain": [
       "{0: 1}"
      ]
     },
     "execution_count": 150,
     "metadata": {},
     "output_type": "execute_result"
    }
   ],
   "source": [
    "#iteration_4_cluster_candidate_A\n",
    "y2=cluster_a25[['V37']]\n",
    "unique, counts = np.unique(y2, return_counts=True)\n",
    "dict_X = dict(zip(unique, counts))\n",
    "dict_X"
   ]
  },
  {
   "cell_type": "code",
   "execution_count": null,
   "metadata": {},
   "outputs": [],
   "source": []
  }
 ],
 "metadata": {
  "kernelspec": {
   "display_name": "Python 3",
   "language": "python",
   "name": "python3"
  },
  "language_info": {
   "codemirror_mode": {
    "name": "ipython",
    "version": 3
   },
   "file_extension": ".py",
   "mimetype": "text/x-python",
   "name": "python",
   "nbconvert_exporter": "python",
   "pygments_lexer": "ipython3",
   "version": "3.6.5"
  }
 },
 "nbformat": 4,
 "nbformat_minor": 2
}
